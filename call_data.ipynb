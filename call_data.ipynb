{
 "cells": [
  {
   "cell_type": "code",
   "execution_count": 1,
   "metadata": {},
   "outputs": [
    {
     "name": "stdout",
     "output_type": "stream",
     "text": [
      "Libraries imported.\n"
     ]
    }
   ],
   "source": [
    "#for reading another file.  I have API credentials in another file.\n",
    "from configparser import ConfigParser\n",
    "\n",
    "import requests # library to handle requests\n",
    "import json # library to handle JSON files\n",
    "# tranforming json file into a pandas dataframe library\n",
    "from pandas.io.json import json_normalize\n",
    "\n",
    "#this is a library for working with data provided by Socrata\n",
    "from sodapy import Socrata\n",
    "\n",
    "#pandas for dataframes\n",
    "import pandas as pd\n",
    "pd.set_option('display.max_columns', None)\n",
    "pd.set_option('display.max_rows', None)\n",
    "\n",
    "\n",
    "\n",
    "#data science math and visualiztion libraries\n",
    "import numpy as np\n",
    "import random # library for random number generation\n",
    "import sklearn\n",
    "from sklearn.cluster import KMeans\n",
    "\n",
    "import matplotlib.cm as cm\n",
    "import matplotlib.colors as colors\n",
    "import folium # plotting library\n",
    "\n",
    "# libraries for displaying images\n",
    "from IPython.display import Image \n",
    "from IPython.core.display import HTML\n",
    "\n",
    "print('Libraries imported.')"
   ]
  },
  {
   "cell_type": "markdown",
   "metadata": {},
   "source": [
    "Retrieving my credentials and setting up my query."
   ]
  },
  {
   "cell_type": "code",
   "execution_count": 2,
   "metadata": {},
   "outputs": [
    {
     "name": "stdout",
     "output_type": "stream",
     "text": [
      "https://data.seattle.gov/resource/33kz-ixgy.json?$limit=1000&$where=original_time_queued%3E%3D'12/01/2020%25'\n"
     ]
    }
   ],
   "source": [
    "parser = ConfigParser()\n",
    "_ = parser.read('seattle_key')\n",
    "APP_TOKEN = parser.get('seattle_key', 'token')\n",
    "#print(APP_TOKEN)\n",
    "\n",
    "requests_url = \"https://data.seattle.gov/resource/33kz-ixgy.json?$limit=1000&$where=original_time_queued%3E%3D'12/01/2020%25'\"\n",
    "print(requests_url)"
   ]
  },
  {
   "cell_type": "markdown",
   "metadata": {},
   "source": [
    "This is an API request using the requests library."
   ]
  },
  {
   "cell_type": "code",
   "execution_count": 38,
   "metadata": {},
   "outputs": [
    {
     "data": {
      "text/plain": [
       "(1000, 11)"
      ]
     },
     "execution_count": 38,
     "metadata": {},
     "output_type": "execute_result"
    }
   ],
   "source": [
    "#headers={'X-App-Token': APP_TOKEN}\n",
    "#results = requests.get(requests_url, headers=headers).json()\n",
    "##print(results)\n",
    "        \n",
    "#df = pd.DataFrame(results)\n",
    "#df.shape"
   ]
  },
  {
   "cell_type": "markdown",
   "metadata": {},
   "source": [
    "I found the Socrata library and wanted to use it to retrieve the data instead of the requests library.  \n",
    "It's very user friendly."
   ]
  },
  {
   "cell_type": "code",
   "execution_count": 30,
   "metadata": {},
   "outputs": [
    {
     "data": {
      "text/plain": [
       "(30000, 11)"
      ]
     },
     "execution_count": 30,
     "metadata": {},
     "output_type": "execute_result"
    }
   ],
   "source": [
    "client = Socrata(\"data.seattle.gov\", APP_TOKEN)\n",
    "\n",
    "# Returned as JSON from API / converted to Python list of dictionaries by sodapy.\n",
    "#results = client.get(\"33kz-ixgy\", limit=1000, where=\"original_time_queued >= '12/01/2020%'\")\n",
    "results = client.get(\"33kz-ixgy\", limit=30000, where=\"cad_event_number >= '2020000000000' and cad_event_number < '2021000000000' and call_type not like 'ONVIEW' and precinct = 'EAST'\")\n",
    "\n",
    "# Convert to pandas DataFrame\n",
    "df = pd.DataFrame.from_records(results)\n",
    "\n",
    "df.shape\n",
    "#df.head()"
   ]
  },
  {
   "cell_type": "code",
   "execution_count": 31,
   "metadata": {},
   "outputs": [
    {
     "data": {
      "text/html": [
       "<div>\n",
       "<style scoped>\n",
       "    .dataframe tbody tr th:only-of-type {\n",
       "        vertical-align: middle;\n",
       "    }\n",
       "\n",
       "    .dataframe tbody tr th {\n",
       "        vertical-align: top;\n",
       "    }\n",
       "\n",
       "    .dataframe thead th {\n",
       "        text-align: right;\n",
       "    }\n",
       "</style>\n",
       "<table border=\"1\" class=\"dataframe\">\n",
       "  <thead>\n",
       "    <tr style=\"text-align: right;\">\n",
       "      <th></th>\n",
       "      <th>arrived_time</th>\n",
       "      <th>beat</th>\n",
       "      <th>cad_event_number</th>\n",
       "      <th>call_type</th>\n",
       "      <th>event_clearance_description</th>\n",
       "      <th>final_call_type</th>\n",
       "      <th>initial_call_type</th>\n",
       "      <th>original_time_queued</th>\n",
       "      <th>precinct</th>\n",
       "      <th>priority</th>\n",
       "      <th>sector</th>\n",
       "    </tr>\n",
       "  </thead>\n",
       "  <tbody>\n",
       "    <tr>\n",
       "      <th>29995</th>\n",
       "      <td>Jan 01 1900 00:00:00:000AM</td>\n",
       "      <td>C2</td>\n",
       "      <td>2020000304431</td>\n",
       "      <td>911</td>\n",
       "      <td>RESPONDING UNIT(S) CANCELLED BY RADIO</td>\n",
       "      <td>--ASSIST PUBLIC - 911 HANG UP, OPEN LINE</td>\n",
       "      <td>UNKNOWN - ANI/ALI - LANDLINE (INCLUDES OPEN LINE)</td>\n",
       "      <td>10/27/2020 07:21:33 AM</td>\n",
       "      <td>EAST</td>\n",
       "      <td>1</td>\n",
       "      <td>CHARLIE</td>\n",
       "    </tr>\n",
       "    <tr>\n",
       "      <th>29996</th>\n",
       "      <td>Oct 15 2020 00:51:12:000AM</td>\n",
       "      <td>E1</td>\n",
       "      <td>2020000294040</td>\n",
       "      <td>911</td>\n",
       "      <td>UNABLE TO LOCATE INCIDENT OR COMPLAINANT</td>\n",
       "      <td>--SUSPICIOUS CIRCUM. - SUSPICIOUS PERSON</td>\n",
       "      <td>HAZ - POTENTIAL THRT TO PHYS SAFETY (NO HAZMAT)</td>\n",
       "      <td>10/15/2020 00:45:51 AM</td>\n",
       "      <td>EAST</td>\n",
       "      <td>2</td>\n",
       "      <td>EDWARD</td>\n",
       "    </tr>\n",
       "    <tr>\n",
       "      <th>29997</th>\n",
       "      <td>Jan 31 2020 12:26:43:000PM</td>\n",
       "      <td>E2</td>\n",
       "      <td>2020000038227</td>\n",
       "      <td>911</td>\n",
       "      <td>ASSISTANCE RENDERED</td>\n",
       "      <td>--THEFT - SHOPLIFT</td>\n",
       "      <td>SHOPLIFT - THEFT</td>\n",
       "      <td>01/31/2020 12:25:15 PM</td>\n",
       "      <td>EAST</td>\n",
       "      <td>2</td>\n",
       "      <td>EDWARD</td>\n",
       "    </tr>\n",
       "    <tr>\n",
       "      <th>29998</th>\n",
       "      <td>Jan 01 1900 00:00:00:000AM</td>\n",
       "      <td>G1</td>\n",
       "      <td>2020000148343</td>\n",
       "      <td>TELEPHONE OTHER, NOT 911</td>\n",
       "      <td>REPORT WRITTEN (NO ARREST)</td>\n",
       "      <td>--RAPE - UNKNOWN SUSPECT (STRANGER)</td>\n",
       "      <td>ASLT - MOLESTED ADULT (GROPED, FONDLED, ETC.)</td>\n",
       "      <td>05/05/2020 08:50:56 AM</td>\n",
       "      <td>EAST</td>\n",
       "      <td>2</td>\n",
       "      <td>GEORGE</td>\n",
       "    </tr>\n",
       "    <tr>\n",
       "      <th>29999</th>\n",
       "      <td>Feb 27 2020 01:03:37:000AM</td>\n",
       "      <td>E3</td>\n",
       "      <td>2020000072687</td>\n",
       "      <td>TELEPHONE OTHER, NOT 911</td>\n",
       "      <td>REPORT WRITTEN (NO ARREST)</td>\n",
       "      <td>--DV - ARGUMENTS, DISTURBANCE (NO ARREST)</td>\n",
       "      <td>DISTURBANCE, MISCELLANEOUS/OTHER</td>\n",
       "      <td>02/27/2020 00:59:48 AM</td>\n",
       "      <td>EAST</td>\n",
       "      <td>2</td>\n",
       "      <td>EDWARD</td>\n",
       "    </tr>\n",
       "  </tbody>\n",
       "</table>\n",
       "</div>"
      ],
      "text/plain": [
       "                     arrived_time beat cad_event_number  \\\n",
       "29995  Jan 01 1900 00:00:00:000AM   C2    2020000304431   \n",
       "29996  Oct 15 2020 00:51:12:000AM   E1    2020000294040   \n",
       "29997  Jan 31 2020 12:26:43:000PM   E2    2020000038227   \n",
       "29998  Jan 01 1900 00:00:00:000AM   G1    2020000148343   \n",
       "29999  Feb 27 2020 01:03:37:000AM   E3    2020000072687   \n",
       "\n",
       "                      call_type               event_clearance_description  \\\n",
       "29995                       911     RESPONDING UNIT(S) CANCELLED BY RADIO   \n",
       "29996                       911  UNABLE TO LOCATE INCIDENT OR COMPLAINANT   \n",
       "29997                       911                       ASSISTANCE RENDERED   \n",
       "29998  TELEPHONE OTHER, NOT 911                REPORT WRITTEN (NO ARREST)   \n",
       "29999  TELEPHONE OTHER, NOT 911                REPORT WRITTEN (NO ARREST)   \n",
       "\n",
       "                                 final_call_type  \\\n",
       "29995   --ASSIST PUBLIC - 911 HANG UP, OPEN LINE   \n",
       "29996   --SUSPICIOUS CIRCUM. - SUSPICIOUS PERSON   \n",
       "29997                         --THEFT - SHOPLIFT   \n",
       "29998        --RAPE - UNKNOWN SUSPECT (STRANGER)   \n",
       "29999  --DV - ARGUMENTS, DISTURBANCE (NO ARREST)   \n",
       "\n",
       "                                       initial_call_type  \\\n",
       "29995  UNKNOWN - ANI/ALI - LANDLINE (INCLUDES OPEN LINE)   \n",
       "29996    HAZ - POTENTIAL THRT TO PHYS SAFETY (NO HAZMAT)   \n",
       "29997                                   SHOPLIFT - THEFT   \n",
       "29998      ASLT - MOLESTED ADULT (GROPED, FONDLED, ETC.)   \n",
       "29999                   DISTURBANCE, MISCELLANEOUS/OTHER   \n",
       "\n",
       "         original_time_queued precinct priority   sector  \n",
       "29995  10/27/2020 07:21:33 AM     EAST        1  CHARLIE  \n",
       "29996  10/15/2020 00:45:51 AM     EAST        2   EDWARD  \n",
       "29997  01/31/2020 12:25:15 PM     EAST        2   EDWARD  \n",
       "29998  05/05/2020 08:50:56 AM     EAST        2   GEORGE  \n",
       "29999  02/27/2020 00:59:48 AM     EAST        2   EDWARD  "
      ]
     },
     "execution_count": 31,
     "metadata": {},
     "output_type": "execute_result"
    }
   ],
   "source": [
    "df.tail()"
   ]
  },
  {
   "cell_type": "markdown",
   "metadata": {},
   "source": [
    "Doing a little reformatting and renaming to save on keystrokes"
   ]
  },
  {
   "cell_type": "code",
   "execution_count": 32,
   "metadata": {},
   "outputs": [],
   "source": [
    "df.rename(columns={'cad_event_number':'cad','event_clearance_description':'clearance','final_call_type':'final_type','initial_call_type':'initial_type','original_time_queued':'queued','arrived_time':'arrived'}, inplace=True)"
   ]
  },
  {
   "cell_type": "code",
   "execution_count": 42,
   "metadata": {},
   "outputs": [
    {
     "data": {
      "text/html": [
       "<div>\n",
       "<style scoped>\n",
       "    .dataframe tbody tr th:only-of-type {\n",
       "        vertical-align: middle;\n",
       "    }\n",
       "\n",
       "    .dataframe tbody tr th {\n",
       "        vertical-align: top;\n",
       "    }\n",
       "\n",
       "    .dataframe thead th {\n",
       "        text-align: right;\n",
       "    }\n",
       "</style>\n",
       "<table border=\"1\" class=\"dataframe\">\n",
       "  <thead>\n",
       "    <tr style=\"text-align: right;\">\n",
       "      <th></th>\n",
       "      <th>cad</th>\n",
       "      <th>queued</th>\n",
       "      <th>arrived</th>\n",
       "      <th>call_type</th>\n",
       "      <th>priority</th>\n",
       "      <th>initial_type</th>\n",
       "      <th>final_type</th>\n",
       "      <th>clearance</th>\n",
       "      <th>precinct</th>\n",
       "      <th>sector</th>\n",
       "      <th>beat</th>\n",
       "    </tr>\n",
       "  </thead>\n",
       "  <tbody>\n",
       "    <tr>\n",
       "      <th>0</th>\n",
       "      <td>2020000301885</td>\n",
       "      <td>10/23/2020 19:43:04 PM</td>\n",
       "      <td>Oct 23 2020 20:23:07:000PM</td>\n",
       "      <td>911</td>\n",
       "      <td>2</td>\n",
       "      <td>PROPERTY - DAMAGE</td>\n",
       "      <td>--PROPERTY DEST (DAMG)</td>\n",
       "      <td>REPORT WRITTEN (NO ARREST)</td>\n",
       "      <td>EAST</td>\n",
       "      <td>CHARLIE</td>\n",
       "      <td>C1</td>\n",
       "    </tr>\n",
       "    <tr>\n",
       "      <th>1</th>\n",
       "      <td>2020000144696</td>\n",
       "      <td>05/01/2020 16:37:11 PM</td>\n",
       "      <td>May 01 2020 16:52:42:000PM</td>\n",
       "      <td>911</td>\n",
       "      <td>3</td>\n",
       "      <td>NARCOTICS - VIOLATIONS (LOITER, USE, SELL, NARS)</td>\n",
       "      <td>--DISTURBANCE - OTHER</td>\n",
       "      <td>ASSISTANCE RENDERED</td>\n",
       "      <td>EAST</td>\n",
       "      <td>CHARLIE</td>\n",
       "      <td>C1</td>\n",
       "    </tr>\n",
       "    <tr>\n",
       "      <th>2</th>\n",
       "      <td>2020000291389</td>\n",
       "      <td>10/12/2020 07:35:29 AM</td>\n",
       "      <td>Jan 01 1900 00:00:00:000AM</td>\n",
       "      <td>TELEPHONE OTHER, NOT 911</td>\n",
       "      <td>3</td>\n",
       "      <td>PARKING VIOLATION (EXCEPT ABANDONED CAR)</td>\n",
       "      <td>--TRAFFIC - PARKING VIOL (EXCEPT ABANDONED CAR)</td>\n",
       "      <td>ORAL WARNING GIVEN</td>\n",
       "      <td>EAST</td>\n",
       "      <td>EDWARD</td>\n",
       "      <td>E3</td>\n",
       "    </tr>\n",
       "    <tr>\n",
       "      <th>3</th>\n",
       "      <td>2020000068484</td>\n",
       "      <td>02/23/2020 19:07:08 PM</td>\n",
       "      <td>Feb 23 2020 20:14:00:000PM</td>\n",
       "      <td>911</td>\n",
       "      <td>2</td>\n",
       "      <td>SHOPLIFT - THEFT</td>\n",
       "      <td>--THEFT - SHOPLIFT</td>\n",
       "      <td>ASSISTANCE RENDERED</td>\n",
       "      <td>EAST</td>\n",
       "      <td>EDWARD</td>\n",
       "      <td>E2</td>\n",
       "    </tr>\n",
       "    <tr>\n",
       "      <th>4</th>\n",
       "      <td>2020000198107</td>\n",
       "      <td>06/26/2020 15:35:23 PM</td>\n",
       "      <td>Jun 26 2020 16:21:47:000PM</td>\n",
       "      <td>TELEPHONE OTHER, NOT 911</td>\n",
       "      <td>2</td>\n",
       "      <td>SERVICE - WELFARE CHECK</td>\n",
       "      <td>--ASSIST PUBLIC - OTHER (NON-SPECIFIED)</td>\n",
       "      <td>ASSISTANCE RENDERED</td>\n",
       "      <td>EAST</td>\n",
       "      <td>GEORGE</td>\n",
       "      <td>G3</td>\n",
       "    </tr>\n",
       "  </tbody>\n",
       "</table>\n",
       "</div>"
      ],
      "text/plain": [
       "             cad                  queued                     arrived  \\\n",
       "0  2020000301885  10/23/2020 19:43:04 PM  Oct 23 2020 20:23:07:000PM   \n",
       "1  2020000144696  05/01/2020 16:37:11 PM  May 01 2020 16:52:42:000PM   \n",
       "2  2020000291389  10/12/2020 07:35:29 AM  Jan 01 1900 00:00:00:000AM   \n",
       "3  2020000068484  02/23/2020 19:07:08 PM  Feb 23 2020 20:14:00:000PM   \n",
       "4  2020000198107  06/26/2020 15:35:23 PM  Jun 26 2020 16:21:47:000PM   \n",
       "\n",
       "                  call_type priority  \\\n",
       "0                       911        2   \n",
       "1                       911        3   \n",
       "2  TELEPHONE OTHER, NOT 911        3   \n",
       "3                       911        2   \n",
       "4  TELEPHONE OTHER, NOT 911        2   \n",
       "\n",
       "                                       initial_type  \\\n",
       "0                                 PROPERTY - DAMAGE   \n",
       "1  NARCOTICS - VIOLATIONS (LOITER, USE, SELL, NARS)   \n",
       "2          PARKING VIOLATION (EXCEPT ABANDONED CAR)   \n",
       "3                                  SHOPLIFT - THEFT   \n",
       "4                           SERVICE - WELFARE CHECK   \n",
       "\n",
       "                                        final_type  \\\n",
       "0                           --PROPERTY DEST (DAMG)   \n",
       "1                            --DISTURBANCE - OTHER   \n",
       "2  --TRAFFIC - PARKING VIOL (EXCEPT ABANDONED CAR)   \n",
       "3                               --THEFT - SHOPLIFT   \n",
       "4          --ASSIST PUBLIC - OTHER (NON-SPECIFIED)   \n",
       "\n",
       "                    clearance precinct   sector beat  \n",
       "0  REPORT WRITTEN (NO ARREST)     EAST  CHARLIE   C1  \n",
       "1         ASSISTANCE RENDERED     EAST  CHARLIE   C1  \n",
       "2          ORAL WARNING GIVEN     EAST   EDWARD   E3  \n",
       "3         ASSISTANCE RENDERED     EAST   EDWARD   E2  \n",
       "4         ASSISTANCE RENDERED     EAST   GEORGE   G3  "
      ]
     },
     "execution_count": 42,
     "metadata": {},
     "output_type": "execute_result"
    }
   ],
   "source": [
    "df2 = df[df.columns[[2,7,0,3,9,6,5,4,8,10,1]]]\n",
    "df2.head()"
   ]
  },
  {
   "cell_type": "code",
   "execution_count": null,
   "metadata": {},
   "outputs": [],
   "source": [
    "#df2.set_index('cad', drop=True, inplace=True, verify_integrity=True)\n",
    "#df2.shape"
   ]
  },
  {
   "cell_type": "code",
   "execution_count": 43,
   "metadata": {},
   "outputs": [
    {
     "name": "stdout",
     "output_type": "stream",
     "text": [
      "<class 'pandas.core.frame.DataFrame'>\n",
      "RangeIndex: 30000 entries, 0 to 29999\n",
      "Data columns (total 11 columns):\n",
      "arrived         30000 non-null object\n",
      "beat            30000 non-null object\n",
      "cad             30000 non-null object\n",
      "call_type       30000 non-null object\n",
      "clearance       30000 non-null object\n",
      "final_type      30000 non-null object\n",
      "initial_type    30000 non-null object\n",
      "queued          30000 non-null object\n",
      "precinct        30000 non-null object\n",
      "priority        30000 non-null object\n",
      "sector          30000 non-null object\n",
      "dtypes: object(11)\n",
      "memory usage: 2.5+ MB\n"
     ]
    }
   ],
   "source": [
    "df.info()"
   ]
  },
  {
   "cell_type": "markdown",
   "metadata": {},
   "source": [
    "This is kind of a pain that the queued datetime and the arrived datetime are not in the same format.  One field probably comes from the dispatch system, and the other from the police car system.  I pick out the date parts of each and make true datetime fields.  Pandas to_datetime has some nice skills."
   ]
  },
  {
   "cell_type": "code",
   "execution_count": 44,
   "metadata": {},
   "outputs": [],
   "source": [
    "df2['arrived'] = pd.to_datetime(df2['arrived'], format=\"%b %d %Y %H:%M:%S:000%p\")"
   ]
  },
  {
   "cell_type": "code",
   "execution_count": 45,
   "metadata": {},
   "outputs": [],
   "source": [
    "df2['queued'] = pd.to_datetime(df2['queued'], format=\"%m/%d/%Y %H:%M:%S %p\")"
   ]
  },
  {
   "cell_type": "code",
   "execution_count": 46,
   "metadata": {},
   "outputs": [
    {
     "name": "stdout",
     "output_type": "stream",
     "text": [
      "<class 'pandas.core.frame.DataFrame'>\n",
      "RangeIndex: 30000 entries, 0 to 29999\n",
      "Data columns (total 11 columns):\n",
      "cad             30000 non-null object\n",
      "queued          30000 non-null datetime64[ns]\n",
      "arrived         30000 non-null datetime64[ns]\n",
      "call_type       30000 non-null object\n",
      "priority        30000 non-null object\n",
      "initial_type    30000 non-null object\n",
      "final_type      30000 non-null object\n",
      "clearance       30000 non-null object\n",
      "precinct        30000 non-null object\n",
      "sector          30000 non-null object\n",
      "beat            30000 non-null object\n",
      "dtypes: datetime64[ns](2), object(9)\n",
      "memory usage: 2.5+ MB\n"
     ]
    }
   ],
   "source": [
    "df2.info()"
   ]
  },
  {
   "cell_type": "markdown",
   "metadata": {},
   "source": [
    "Now to calculate a response time field, rearrange it, and convert it to minutes."
   ]
  },
  {
   "cell_type": "code",
   "execution_count": 47,
   "metadata": {
    "scrolled": true
   },
   "outputs": [],
   "source": [
    "df2['response_time']=df2['arrived']-df2['queued']"
   ]
  },
  {
   "cell_type": "code",
   "execution_count": 48,
   "metadata": {
    "scrolled": true
   },
   "outputs": [],
   "source": [
    "df2 = df2[df2.columns[[0,1,11,2,3,4,5,6,7,8,9,10]]]"
   ]
  },
  {
   "cell_type": "code",
   "execution_count": 49,
   "metadata": {},
   "outputs": [
    {
     "data": {
      "text/html": [
       "<div>\n",
       "<style scoped>\n",
       "    .dataframe tbody tr th:only-of-type {\n",
       "        vertical-align: middle;\n",
       "    }\n",
       "\n",
       "    .dataframe tbody tr th {\n",
       "        vertical-align: top;\n",
       "    }\n",
       "\n",
       "    .dataframe thead th {\n",
       "        text-align: right;\n",
       "    }\n",
       "</style>\n",
       "<table border=\"1\" class=\"dataframe\">\n",
       "  <thead>\n",
       "    <tr style=\"text-align: right;\">\n",
       "      <th></th>\n",
       "      <th>cad</th>\n",
       "      <th>queued</th>\n",
       "      <th>response_time</th>\n",
       "      <th>arrived</th>\n",
       "      <th>call_type</th>\n",
       "      <th>priority</th>\n",
       "      <th>initial_type</th>\n",
       "      <th>final_type</th>\n",
       "      <th>clearance</th>\n",
       "      <th>precinct</th>\n",
       "      <th>sector</th>\n",
       "      <th>beat</th>\n",
       "    </tr>\n",
       "  </thead>\n",
       "  <tbody>\n",
       "    <tr>\n",
       "      <th>0</th>\n",
       "      <td>2020000301885</td>\n",
       "      <td>2020-10-23 19:43:04</td>\n",
       "      <td>4.005000e+01</td>\n",
       "      <td>2020-10-23 20:23:07</td>\n",
       "      <td>911</td>\n",
       "      <td>2</td>\n",
       "      <td>PROPERTY - DAMAGE</td>\n",
       "      <td>--PROPERTY DEST (DAMG)</td>\n",
       "      <td>REPORT WRITTEN (NO ARREST)</td>\n",
       "      <td>EAST</td>\n",
       "      <td>CHARLIE</td>\n",
       "      <td>C1</td>\n",
       "    </tr>\n",
       "    <tr>\n",
       "      <th>1</th>\n",
       "      <td>2020000144696</td>\n",
       "      <td>2020-05-01 16:37:11</td>\n",
       "      <td>1.551667e+01</td>\n",
       "      <td>2020-05-01 16:52:42</td>\n",
       "      <td>911</td>\n",
       "      <td>3</td>\n",
       "      <td>NARCOTICS - VIOLATIONS (LOITER, USE, SELL, NARS)</td>\n",
       "      <td>--DISTURBANCE - OTHER</td>\n",
       "      <td>ASSISTANCE RENDERED</td>\n",
       "      <td>EAST</td>\n",
       "      <td>CHARLIE</td>\n",
       "      <td>C1</td>\n",
       "    </tr>\n",
       "    <tr>\n",
       "      <th>2</th>\n",
       "      <td>2020000291389</td>\n",
       "      <td>2020-10-12 07:35:29</td>\n",
       "      <td>-6.352462e+07</td>\n",
       "      <td>1900-01-01 00:00:00</td>\n",
       "      <td>TELEPHONE OTHER, NOT 911</td>\n",
       "      <td>3</td>\n",
       "      <td>PARKING VIOLATION (EXCEPT ABANDONED CAR)</td>\n",
       "      <td>--TRAFFIC - PARKING VIOL (EXCEPT ABANDONED CAR)</td>\n",
       "      <td>ORAL WARNING GIVEN</td>\n",
       "      <td>EAST</td>\n",
       "      <td>EDWARD</td>\n",
       "      <td>E3</td>\n",
       "    </tr>\n",
       "    <tr>\n",
       "      <th>3</th>\n",
       "      <td>2020000068484</td>\n",
       "      <td>2020-02-23 19:07:08</td>\n",
       "      <td>6.686667e+01</td>\n",
       "      <td>2020-02-23 20:14:00</td>\n",
       "      <td>911</td>\n",
       "      <td>2</td>\n",
       "      <td>SHOPLIFT - THEFT</td>\n",
       "      <td>--THEFT - SHOPLIFT</td>\n",
       "      <td>ASSISTANCE RENDERED</td>\n",
       "      <td>EAST</td>\n",
       "      <td>EDWARD</td>\n",
       "      <td>E2</td>\n",
       "    </tr>\n",
       "    <tr>\n",
       "      <th>4</th>\n",
       "      <td>2020000198107</td>\n",
       "      <td>2020-06-26 15:35:23</td>\n",
       "      <td>4.640000e+01</td>\n",
       "      <td>2020-06-26 16:21:47</td>\n",
       "      <td>TELEPHONE OTHER, NOT 911</td>\n",
       "      <td>2</td>\n",
       "      <td>SERVICE - WELFARE CHECK</td>\n",
       "      <td>--ASSIST PUBLIC - OTHER (NON-SPECIFIED)</td>\n",
       "      <td>ASSISTANCE RENDERED</td>\n",
       "      <td>EAST</td>\n",
       "      <td>GEORGE</td>\n",
       "      <td>G3</td>\n",
       "    </tr>\n",
       "  </tbody>\n",
       "</table>\n",
       "</div>"
      ],
      "text/plain": [
       "             cad              queued  response_time             arrived  \\\n",
       "0  2020000301885 2020-10-23 19:43:04   4.005000e+01 2020-10-23 20:23:07   \n",
       "1  2020000144696 2020-05-01 16:37:11   1.551667e+01 2020-05-01 16:52:42   \n",
       "2  2020000291389 2020-10-12 07:35:29  -6.352462e+07 1900-01-01 00:00:00   \n",
       "3  2020000068484 2020-02-23 19:07:08   6.686667e+01 2020-02-23 20:14:00   \n",
       "4  2020000198107 2020-06-26 15:35:23   4.640000e+01 2020-06-26 16:21:47   \n",
       "\n",
       "                  call_type priority  \\\n",
       "0                       911        2   \n",
       "1                       911        3   \n",
       "2  TELEPHONE OTHER, NOT 911        3   \n",
       "3                       911        2   \n",
       "4  TELEPHONE OTHER, NOT 911        2   \n",
       "\n",
       "                                       initial_type  \\\n",
       "0                                 PROPERTY - DAMAGE   \n",
       "1  NARCOTICS - VIOLATIONS (LOITER, USE, SELL, NARS)   \n",
       "2          PARKING VIOLATION (EXCEPT ABANDONED CAR)   \n",
       "3                                  SHOPLIFT - THEFT   \n",
       "4                           SERVICE - WELFARE CHECK   \n",
       "\n",
       "                                        final_type  \\\n",
       "0                           --PROPERTY DEST (DAMG)   \n",
       "1                            --DISTURBANCE - OTHER   \n",
       "2  --TRAFFIC - PARKING VIOL (EXCEPT ABANDONED CAR)   \n",
       "3                               --THEFT - SHOPLIFT   \n",
       "4          --ASSIST PUBLIC - OTHER (NON-SPECIFIED)   \n",
       "\n",
       "                    clearance precinct   sector beat  \n",
       "0  REPORT WRITTEN (NO ARREST)     EAST  CHARLIE   C1  \n",
       "1         ASSISTANCE RENDERED     EAST  CHARLIE   C1  \n",
       "2          ORAL WARNING GIVEN     EAST   EDWARD   E3  \n",
       "3         ASSISTANCE RENDERED     EAST   EDWARD   E2  \n",
       "4         ASSISTANCE RENDERED     EAST   GEORGE   G3  "
      ]
     },
     "execution_count": 49,
     "metadata": {},
     "output_type": "execute_result"
    }
   ],
   "source": [
    "df2['response_time'] = df2['response_time']/ np.timedelta64(1,'m')\n",
    "df2.head(5)"
   ]
  },
  {
   "cell_type": "markdown",
   "metadata": {},
   "source": [
    "Need to drop some rows that the arrived time was in 1900, likely a null value.  I will discard anything with a negative response time."
   ]
  },
  {
   "cell_type": "code",
   "execution_count": 51,
   "metadata": {},
   "outputs": [],
   "source": [
    "df3 = df2[df2.response_time > 0]"
   ]
  },
  {
   "cell_type": "code",
   "execution_count": 53,
   "metadata": {},
   "outputs": [
    {
     "data": {
      "text/plain": [
       "(25310, 12)"
      ]
     },
     "execution_count": 53,
     "metadata": {},
     "output_type": "execute_result"
    }
   ],
   "source": [
    "df3.shape"
   ]
  },
  {
   "cell_type": "markdown",
   "metadata": {},
   "source": [
    "Saving the data to a local csv so that I can do some exploration in Tableau."
   ]
  },
  {
   "cell_type": "code",
   "execution_count": 54,
   "metadata": {},
   "outputs": [],
   "source": [
    "df3.to_csv('C:/Users/DaveFunk/Desktop/call_data/call_data.csv')"
   ]
  },
  {
   "cell_type": "markdown",
   "metadata": {},
   "source": [
    "https://public.tableau.com/profile/david.funk5530#!/vizhome/SeattleEastPrecinctPoliceResponseTime2020/SeattleEastPrecinctPoliceResponseTime"
   ]
  },
  {
   "cell_type": "code",
   "execution_count": null,
   "metadata": {},
   "outputs": [],
   "source": []
  }
 ],
 "metadata": {
  "kernelspec": {
   "display_name": "Python 3",
   "language": "python",
   "name": "python3"
  },
  "language_info": {
   "codemirror_mode": {
    "name": "ipython",
    "version": 3
   },
   "file_extension": ".py",
   "mimetype": "text/x-python",
   "name": "python",
   "nbconvert_exporter": "python",
   "pygments_lexer": "ipython3",
   "version": "3.7.3"
  }
 },
 "nbformat": 4,
 "nbformat_minor": 2
}
